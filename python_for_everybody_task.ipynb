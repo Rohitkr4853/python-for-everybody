{
  "nbformat": 4,
  "nbformat_minor": 0,
  "metadata": {
    "colab": {
      "name": "python_for_everybody_task.ipynb",
      "provenance": [],
      "authorship_tag": "ABX9TyN1L81npRs5Jqh6Vs+bWsBy",
      "include_colab_link": true
    },
    "kernelspec": {
      "name": "python3",
      "display_name": "Python 3"
    },
    "language_info": {
      "name": "python"
    }
  },
  "cells": [
    {
      "cell_type": "markdown",
      "metadata": {
        "id": "view-in-github",
        "colab_type": "text"
      },
      "source": [
        "<a href=\"https://colab.research.google.com/github/Rohitkr4853/python-for-everybody/blob/main/python_for_everybody_task.ipynb\" target=\"_parent\"><img src=\"https://colab.research.google.com/assets/colab-badge.svg\" alt=\"Open In Colab\"/></a>"
      ]
    },
    {
      "cell_type": "code",
      "execution_count": null,
      "metadata": {
        "colab": {
          "base_uri": "https://localhost:8080/"
        },
        "id": "CuFQPcAdVOWi",
        "outputId": "e87636ec-5cf0-48f2-d08c-eee0c0376908"
      },
      "outputs": [
        {
          "output_type": "stream",
          "name": "stdout",
          "text": [
            "rohit\n"
          ]
        }
      ],
      "source": [
        "print(\"rohit\")"
      ]
    },
    {
      "cell_type": "code",
      "source": [
        "x=10\n",
        "x=10+5\n",
        "print(x)"
      ],
      "metadata": {
        "colab": {
          "base_uri": "https://localhost:8080/"
        },
        "id": "EUtiVHLF1q2m",
        "outputId": "d1ca2c91-7ec6-495b-a6c4-5989e541c3c5"
      },
      "execution_count": null,
      "outputs": [
        {
          "output_type": "stream",
          "name": "stdout",
          "text": [
            "15\n"
          ]
        }
      ]
    },
    {
      "cell_type": "code",
      "source": [
        "#tpye converstion\n",
        "ee='hello'+'there'\n",
        "print(ee)\n",
        "print(type(ee))\n",
        "\n",
        "x=10\n",
        "print(type(x))\n",
        "y=float(x)\n",
        "print(type(y))\n",
        "\n"
      ],
      "metadata": {
        "colab": {
          "base_uri": "https://localhost:8080/"
        },
        "id": "YTh8wS6N1vfw",
        "outputId": "0a3c3713-809f-46be-e0da-c989ddcfa075"
      },
      "execution_count": null,
      "outputs": [
        {
          "output_type": "stream",
          "name": "stdout",
          "text": [
            "hellothere\n",
            "<class 'str'>\n",
            "<class 'int'>\n",
            "<class 'float'>\n"
          ]
        }
      ]
    },
    {
      "cell_type": "code",
      "source": [
        "#condinatal check\n",
        "x=5\n",
        "if x<10:\n",
        "  print(\"smaller\")\n",
        "\n",
        "if x>10:\n",
        "  print(\"greater\")\n",
        "\n"
      ],
      "metadata": {
        "colab": {
          "base_uri": "https://localhost:8080/"
        },
        "id": "D_Z_1LQ-8Xdt",
        "outputId": "fd8f204c-410b-4fc0-d910-f0e4bbf5de7f"
      },
      "execution_count": null,
      "outputs": [
        {
          "output_type": "stream",
          "name": "stdout",
          "text": [
            "smaller\n"
          ]
        }
      ]
    },
    {
      "cell_type": "code",
      "source": [
        "x=5\n",
        "while x>0:\n",
        "  print(x)\n",
        "  x=x-1\n",
        "print(\"its while loop\")\n",
        "\n",
        "\n",
        "\n"
      ],
      "metadata": {
        "colab": {
          "base_uri": "https://localhost:8080/"
        },
        "id": "crjT0SwSJ9CU",
        "outputId": "a446c72e-871d-4367-d03c-c91faa24b7b9"
      },
      "execution_count": null,
      "outputs": [
        {
          "output_type": "stream",
          "name": "stdout",
          "text": [
            "5\n",
            "4\n",
            "3\n",
            "2\n",
            "1\n",
            "its while loop\n"
          ]
        }
      ]
    },
    {
      "cell_type": "code",
      "source": [
        "#find the largest no.\n",
        "x=list(map(int,input().split()))\n",
        "max=-1\n",
        "for i in x:\n",
        "  if i>max:\n",
        "    max=i\n",
        "\n",
        "print(max)"
      ],
      "metadata": {
        "colab": {
          "base_uri": "https://localhost:8080/"
        },
        "id": "lonZc-1AdRuO",
        "outputId": "46db675f-d975-414b-8441-203e4cc579f7"
      },
      "execution_count": null,
      "outputs": [
        {
          "output_type": "stream",
          "name": "stdout",
          "text": [
            "2 8 1 9 3 7\n",
            "9\n"
          ]
        }
      ]
    },
    {
      "cell_type": "code",
      "source": [
        "#string \n",
        "str=input()\n",
        "print(str)\n",
        "l=len(str)\n",
        "print(str[0:l-2])\n",
        "str1='hello'\n",
        "str=str+str1\n",
        "print(str)\n",
        "print(str.upper())"
      ],
      "metadata": {
        "colab": {
          "base_uri": "https://localhost:8080/"
        },
        "id": "OzRQrmCjo2PU",
        "outputId": "cb3db448-936c-4931-b0b0-e62d18959f84"
      },
      "execution_count": null,
      "outputs": [
        {
          "output_type": "stream",
          "name": "stdout",
          "text": [
            "rohit\n",
            "rohit\n",
            "roh\n",
            "rohithello\n",
            "ROHITHELLO\n"
          ]
        }
      ]
    },
    {
      "cell_type": "code",
      "source": [
        "#open and read file \n",
        "from google.colab import drive\n",
        "drive.mount('/content/drive')"
      ],
      "metadata": {
        "colab": {
          "base_uri": "https://localhost:8080/"
        },
        "id": "Jc0rep103v7Q",
        "outputId": "c7c650c0-32ec-4cfd-d13a-3dd486ba01bc"
      },
      "execution_count": null,
      "outputs": [
        {
          "output_type": "stream",
          "name": "stdout",
          "text": [
            "Drive already mounted at /content/drive; to attempt to forcibly remount, call drive.mount(\"/content/drive\", force_remount=True).\n"
          ]
        }
      ]
    },
    {
      "cell_type": "code",
      "source": [
        "x=open('/content/drive/MyDrive/konverge_task/song.txt','r')\n",
        "y=x.read()\n",
        "print(y)"
      ],
      "metadata": {
        "colab": {
          "base_uri": "https://localhost:8080/"
        },
        "id": "41rK9g3D4x_k",
        "outputId": "64dba227-e78b-4de3-d31f-4894c9f66735"
      },
      "execution_count": null,
      "outputs": [
        {
          "output_type": "stream",
          "name": "stdout",
          "text": [
            "\"Aaj Se Teri\" Padman\n",
            "\"Enna Sona\" OK Jaanu\n",
            "\"Lambiyaan Si Judaiyan\" Raabta\n",
            "\"Nazm Nazm\" Bareilly Ki Barfi\n",
            "\n",
            "\n",
            "\n",
            "\n"
          ]
        }
      ]
    },
    {
      "cell_type": "markdown",
      "source": [
        "LIST:\n",
        "Built-in mutable sequence.\n",
        "\n",
        "If no argument is given, the constructor creates a new empty list.\n",
        "The argument must be an iterable if specified."
      ],
      "metadata": {
        "id": "q8nQBigKJEQf"
      }
    },
    {
      "cell_type": "code",
      "source": [
        "#list\n",
        "#list is mutable(we can change value)\n",
        "x=list(map(int, input().split()))\n",
        "print(x)\n",
        "x[3]=66\n",
        "print(x)\n",
        "y=list(map(int, input().split()))\n",
        "print(x+y)\n",
        "x.append(88) #it add no. at the end of list\n",
        "print(x)"
      ],
      "metadata": {
        "colab": {
          "base_uri": "https://localhost:8080/"
        },
        "id": "1Bd26UG26YrI",
        "outputId": "934f89e7-a716-4550-e868-5b2f8cb8bca7"
      },
      "execution_count": null,
      "outputs": [
        {
          "output_type": "stream",
          "name": "stdout",
          "text": [
            "2 3 4 5\n",
            "[2, 3, 4, 5]\n",
            "[2, 3, 4, 66]\n",
            "6 7 8 9\n",
            "[2, 3, 4, 66, 6, 7, 8, 9]\n",
            "[2, 3, 4, 66, 88]\n"
          ]
        }
      ]
    },
    {
      "cell_type": "code",
      "source": [
        "#dictonary\n",
        "#here key must be unique\n",
        "purse=dict()\n",
        "purse['money']=12\n",
        "purse['candy']=3\n",
        "purse['tissue']=75\n",
        "print(purse)\n",
        "print(purse['candy'])"
      ],
      "metadata": {
        "colab": {
          "base_uri": "https://localhost:8080/"
        },
        "id": "b_isEVPN9peK",
        "outputId": "81f82181-460c-4341-abb9-4a2687b5664f"
      },
      "execution_count": null,
      "outputs": [
        {
          "output_type": "stream",
          "name": "stdout",
          "text": [
            "{'money': 12, 'candy': 3, 'tissue': 75}\n",
            "3\n"
          ]
        }
      ]
    },
    {
      "cell_type": "code",
      "source": [
        "#use dictonary to get frequency  \n",
        "counts=dict()\n",
        "x=['a','b','a','c','c','a','d','e']\n",
        "for i in x:\n",
        "  if i not in counts:\n",
        "    counts[i]=1\n",
        "  else:\n",
        "    counts[i]=counts[i]+1\n",
        "\n",
        "print(counts)"
      ],
      "metadata": {
        "colab": {
          "base_uri": "https://localhost:8080/"
        },
        "id": "8WJ2I3l3-3cI",
        "outputId": "58e040a7-6ee2-4640-ca8a-f612502850a2"
      },
      "execution_count": null,
      "outputs": [
        {
          "output_type": "stream",
          "name": "stdout",
          "text": [
            "{'a': 3, 'b': 1, 'c': 2, 'd': 1, 'e': 1}\n"
          ]
        }
      ]
    },
    {
      "cell_type": "markdown",
      "source": [
        "TUPLE:\n",
        "\n",
        "Built-in immutable sequence.\n",
        "\n",
        "If no argument is given, the constructor returns an empty tuple.\n",
        "If iterable is specified the tuple is initialized from iterable's items.\n",
        "\n",
        "If the argument is a tuple, the return value is the same object."
      ],
      "metadata": {
        "id": "KBSVgB04IeYX"
      }
    },
    {
      "cell_type": "code",
      "source": [
        "#tuple \n",
        "(x,y)=(4,'rohit')\n",
        "print(x)\n",
        "print(y)\n",
        "\n"
      ],
      "metadata": {
        "colab": {
          "base_uri": "https://localhost:8080/"
        },
        "id": "1_PdzVQvCHLt",
        "outputId": "02014d8b-193a-48f7-c6b3-b6f874886050"
      },
      "execution_count": null,
      "outputs": [
        {
          "output_type": "stream",
          "name": "stdout",
          "text": [
            "4\n",
            "rohit\n"
          ]
        }
      ]
    },
    {
      "cell_type": "markdown",
      "source": [
        "REGULAR EXPRESSION:\n",
        "This module provides regular expression matching operations similar to\n",
        "those found in Perl.  It supports both 8-bit and Unicode strings; both\n",
        "the pattern and the strings being processed can contain null bytes and\n",
        "characters outside the US ASCII range.\n",
        "\n",
        "Regular expressions can contain both special and ordinary "
      ],
      "metadata": {
        "id": "MJLwQuxiJuZk"
      }
    },
    {
      "cell_type": "code",
      "source": [
        "#matching and extracting data  re\n",
        "import re \n",
        "x='My 2 favorite number are 19 and 42'\n",
        "y=re.findall('[fna]+',x)\n",
        "print(y)"
      ],
      "metadata": {
        "colab": {
          "base_uri": "https://localhost:8080/"
        },
        "id": "2WbOvMcfEjmy",
        "outputId": "4a329964-9ae8-4b39-d66e-fa36908cd4e9"
      },
      "execution_count": null,
      "outputs": [
        {
          "output_type": "stream",
          "name": "stdout",
          "text": [
            "['fa', 'n', 'a', 'an']\n"
          ]
        }
      ]
    },
    {
      "cell_type": "markdown",
      "source": [
        "TCP Connection /sockets\n",
        "==In computer network , an internet socket or network socket is an endpoiny of a bidirectional inter-process communication flow across an internet protocol based computer network , such as the internet.\n",
        "\n",
        "\n",
        "This module provides socket operations and some related functions.\n",
        "On Unix, it supports IP (Internet Protocol) and Unix domain sockets.\n",
        "On other systems, it only supports IP. Functions specific for a\n",
        "socket are available as methods of the socket object.\n",
        "\n",
        "Functions:\n",
        "\n",
        "socket() -- create a new socket object\n",
        "socketpair() -- create a pair of new socket objects \n",
        "fromfd() -- create a socket object from an open file descriptor "
      ],
      "metadata": {
        "id": "WmuctQRYF9Jq"
      }
    },
    {
      "cell_type": "code",
      "source": [
        "#TCP socket connect socket\n",
        "import socket \n",
        "mysoc=socket.socket(socket.AF_INET,socket.SOCK_STREAM)\n",
        "mysoc.connect(('data.pr4e.org',80))\n",
        "cmd='GET http://data.pr4e.org/romeo.txt HTTP/1.0\\n\\n'.encode()\n",
        "mysoc.send(cmd)\n",
        "\n",
        "while True:\n",
        "  data=mysoc.recv(512)\n",
        "  if(len(data)<1):\n",
        "    break\n",
        "  print(data.decode())\n",
        "mysoc.close()"
      ],
      "metadata": {
        "colab": {
          "base_uri": "https://localhost:8080/"
        },
        "id": "jlq8ZA0DGsE4",
        "outputId": "5b62892e-9784-4a61-c04b-92172b5867a8"
      },
      "execution_count": null,
      "outputs": [
        {
          "output_type": "stream",
          "name": "stdout",
          "text": [
            "HTTP/1.1 400 Bad Request\r\n",
            "Date: Sun, 20 Feb 2022 03:38:52 GMT\r\n",
            "Server: Apache/2.4.18 (Ubuntu)\r\n",
            "Content-Length: 308\r\n",
            "Connection: close\r\n",
            "Content-Type: text/html; charset=iso-8859-1\r\n",
            "\r\n",
            "<!DOCTYPE HTML PUBLIC \"-//IETF//DTD HTML 2.0//EN\">\n",
            "<html><head>\n",
            "<title>400 Bad Request</title>\n",
            "</head><body>\n",
            "<h1>Bad Request</h1>\n",
            "<p>Your browser sent a request that this server could not understand.<br />\n",
            "</p>\n",
            "<hr>\n",
            "<address>Apache/2.4.18 (Ubuntu) Server at do1.dr-chuck.com Port 80</address>\n",
            "</body></html>\n",
            "\n"
          ]
        }
      ]
    },
    {
      "cell_type": "code",
      "source": [
        "import urllib.request , urllib.parse, urllib.error\n",
        "fan=urllib.request.urlopen('http://data.pr4e.org/romeo.txt')\n",
        "for line in fan:\n",
        "  print(line.decode().strip())\n",
        "\n"
      ],
      "metadata": {
        "colab": {
          "base_uri": "https://localhost:8080/"
        },
        "id": "ZU9cjhVPMvXs",
        "outputId": "9aedfee3-21bf-43fd-be00-eb8361cc4117"
      },
      "execution_count": null,
      "outputs": [
        {
          "output_type": "stream",
          "name": "stdout",
          "text": [
            "But soft what light through yonder window breaks\n",
            "It is the east and Juliet is the sun\n",
            "Arise fair sun and kill the envious moon\n",
            "Who is already sick and pale with grief\n"
          ]
        }
      ]
    },
    {
      "cell_type": "markdown",
      "source": [
        " web scraping:\n",
        "Web scraping is a term used to describe the use of a program or algorithm to extract and process large amounts of data from the web."
      ],
      "metadata": {
        "id": "AJEmgmMkRY-y"
      }
    },
    {
      "cell_type": "markdown",
      "source": [
        "DATABASE MODEL:\n",
        "database model is the structure or formate of a database ,described in a formal language supported by the database management system .In other word a databse model is the application of a data model when used in conjunction with a databse management system .\n",
        "\n",
        "Majaor database systems are : Oracle, Mysql, SqlServer,HSQL ,SQLite.\n",
        "\n"
      ],
      "metadata": {
        "id": "5Qdt5EZ4VAmE"
      }
    },
    {
      "cell_type": "markdown",
      "source": [
        "WEB CRAWLER:\n",
        "A web crawler, or spider, is a type of bot that is typically operated by search engines like Google and Bing. Their purpose is to index the content of websites all across the Internet so that those websites can appear in search engine results.\n",
        "![image.png](data:image/png;base64,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)\n",
        "\n",
        ".Retrive a page\n",
        ".Look through the page for links\n",
        ".Add the link to a list of \"to be retrieved\" sites \n",
        ".Repeat"
      ],
      "metadata": {
        "id": "KmpCgmSYXExJ"
      }
    },
    {
      "cell_type": "code",
      "source": [
        ""
      ],
      "metadata": {
        "id": "CgcpdoYkXHGI"
      },
      "execution_count": null,
      "outputs": []
    }
  ]
}